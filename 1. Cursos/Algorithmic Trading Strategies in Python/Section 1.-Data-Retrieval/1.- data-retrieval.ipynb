{
 "cells": [
  {
   "cell_type": "markdown",
   "metadata": {},
   "source": [
    "# Data Retrieval: \n",
    "\n",
    "Podemos traer datos de diferentes plataformas. \n",
    "Aquí se plantean usar 2:\n",
    "- Yahoo finanzas\n",
    "- [Dukascopy](https://www.dukascopy.com/swiss/english/marketwatch/historical/)\n"
   ]
  },
  {
   "cell_type": "code",
   "execution_count": 42,
   "metadata": {},
   "outputs": [],
   "source": [
    "import yfinance as yf\n",
    "import datetime as dt\n",
    "import pandas as pd\n",
    "import plotly.graph_objects as go\n",
    "import nbformat\n",
    "import plotly.io as pio\n",
    "import pandas_ta as ta"
   ]
  },
  {
   "cell_type": "code",
   "execution_count": 31,
   "metadata": {},
   "outputs": [
    {
     "name": "stderr",
     "output_type": "stream",
     "text": [
      "AAPL: 1m data not available for startTime=1560527564 and endTime=1718185967. Only 7 days worth of 1m granularity data are allowed to be fetched per request.\n"
     ]
    }
   ],
   "source": [
    "# EJEMPLO CON YAHOO FINANZAS\n",
    "ticker_symbol = 'AAPL'\n",
    "ticker = yf.Ticker(ticker_symbol)\n",
    "\n",
    "# Obtener el historial de precios\n",
    "years=5\n",
    "end_date= dt.datetime.now() # fecha en formato 'YYYY-MM-DD' en la que queremos obtener los ultimos datos\n",
    "start_date = end_date- dt.timedelta(365*years) # fecha en formato 'YYYY-MM-DD' en la que queremos obtener los primeros datos\n",
    "period='5d' # 1d, 5d, 1mo, 3mo, 6mo, 1y, 2y, 5y, 10y, ytd, max\n",
    "interval='1m' # 1m, 2m, 5m, 15m, 30m, 60m, 90m, 1h, 1d, 5d, 1wk, 1mo, 3mo\n",
    "\n",
    "# bajamos los datos\n",
    "ticker_data = ticker.history(start=start_date, end=end_date, interval=interval)\n",
    "# ticker_data=ticker.history(period=period, interval=interval)\n",
    "# print(ticker_data)"
   ]
  },
  {
   "cell_type": "code",
   "execution_count": 32,
   "metadata": {},
   "outputs": [],
   "source": [
    "#EJEMPLO CON DUKASCOPY\n",
    "data_path='./data/BTCUSD_Candlestick_1_D_BID_08.05.2017-16.10.2021.csv'\n",
    "df = pd.read_csv(data_path, sep=',')\n",
    "# df \n",
    "\n",
    "# se quitan los datos de la columna Volume que son igual a 0 porque el mercado está cerrado\n",
    "df=df[df['Volume']!=0]"
   ]
  },
  {
   "cell_type": "markdown",
   "metadata": {},
   "source": [
    "## Graficar un diagrama de velas"
   ]
  },
  {
   "cell_type": "code",
   "execution_count": 43,
   "metadata": {},
   "outputs": [],
   "source": [
    "pio.renderers.default = 'browser'\n",
    "\n",
    "dfpl = df[0:50]\n",
    "\n",
    "fig = go.Figure(data=[go.Candlestick(x=dfpl.index, open=dfpl['Open'],high=dfpl['High'], low=dfpl['Low'], close=dfpl['Close'])])\n",
    "fig.show()"
   ]
  },
  {
   "cell_type": "markdown",
   "metadata": {},
   "source": [
    "Algunas cosas interesantes sobre _pandas ta_ la librería de análisis técnico"
   ]
  },
  {
   "cell_type": "code",
   "execution_count": 47,
   "metadata": {},
   "outputs": [
    {
     "name": "stdout",
     "output_type": "stream",
     "text": [
      "Help on function rsi in module pandas_ta.momentum.rsi:\n",
      "\n",
      "rsi(close, length=None, scalar=None, talib=None, drift=None, offset=None, **kwargs)\n",
      "    Relative Strength Index (RSI)\n",
      "    \n",
      "    The Relative Strength Index is popular momentum oscillator used to measure the\n",
      "    velocity as well as the magnitude of directional price movements.\n",
      "    \n",
      "    Sources:\n",
      "        https://www.tradingview.com/wiki/Relative_Strength_Index_(RSI)\n",
      "    \n",
      "    Calculation:\n",
      "        Default Inputs:\n",
      "            length=14, scalar=100, drift=1\n",
      "        ABS = Absolute Value\n",
      "        RMA = Rolling Moving Average\n",
      "    \n",
      "        diff = close.diff(drift)\n",
      "        positive = diff if diff > 0 else 0\n",
      "        negative = diff if diff < 0 else 0\n",
      "    \n",
      "        pos_avg = RMA(positive, length)\n",
      "        neg_avg = ABS(RMA(negative, length))\n",
      "    \n",
      "        RSI = scalar * pos_avg / (pos_avg + neg_avg)\n",
      "    \n",
      "    Args:\n",
      "        close (pd.Series): Series of 'close's\n",
      "        length (int): It's period. Default: 14\n",
      "        scalar (float): How much to magnify. Default: 100\n",
      "        talib (bool): If TA Lib is installed and talib is True, Returns the TA Lib\n",
      "            version. Default: True\n",
      "        drift (int): The difference period. Default: 1\n",
      "        offset (int): How many periods to offset the result. Default: 0\n",
      "    \n",
      "    Kwargs:\n",
      "        fillna (value, optional): pd.DataFrame.fillna(value)\n",
      "        fill_method (value, optional): Type of fill method\n",
      "    \n",
      "    Returns:\n",
      "        pd.Series: New feature generated.\n",
      "\n"
     ]
    }
   ],
   "source": [
    "# df.ta.indicators()\n",
    "# help(ta.rsi)"
   ]
  }
 ],
 "metadata": {
  "kernelspec": {
   "display_name": "Python 3",
   "language": "python",
   "name": "python3"
  },
  "language_info": {
   "codemirror_mode": {
    "name": "ipython",
    "version": 3
   },
   "file_extension": ".py",
   "mimetype": "text/x-python",
   "name": "python",
   "nbconvert_exporter": "python",
   "pygments_lexer": "ipython3",
   "version": "3.10.9"
  }
 },
 "nbformat": 4,
 "nbformat_minor": 2
}
