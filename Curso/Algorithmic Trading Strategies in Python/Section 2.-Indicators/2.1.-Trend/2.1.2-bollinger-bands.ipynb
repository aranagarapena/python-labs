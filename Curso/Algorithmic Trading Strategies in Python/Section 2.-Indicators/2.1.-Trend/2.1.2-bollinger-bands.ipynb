{
 "cells": [
  {
   "cell_type": "markdown",
   "metadata": {},
   "source": [
    "## 2.2.- Bandas de Bollinger\n",
    "\n",
    "Las Bandas de Bollinger son un indicador técnico popular utilizado en el análisis financiero y técnico. Aquí te proporciono una explicación más detallada sobre por qué son importantes y algunos casos de uso:\n",
    "\n",
    "#### Importancia de las Bandas de Bollinger\n",
    "\n",
    "Las Bandas de Bollinger son importantes por varias razones clave:\n",
    "\n",
    "1. **Medición de la Volatilidad:** Las bandas están diseñadas para medir la volatilidad del precio de un activo. La distancia entre las bandas superior e inferior puede indicar cuán volátil ha sido el precio en el pasado reciente. Un rango más amplio entre las bandas sugiere una mayor volatilidad, mientras que un rango más estrecho indica una menor volatilidad.\n",
    "\n",
    "2. **Identificación de Condiciones de Sobrecompra y Sobreventa:** Las Bandas de Bollinger ayudan a identificar niveles potenciales de sobrecompra y sobreventa en un mercado. Cuando el precio se acerca o cruza la banda superior, podría interpretarse como una señal de sobrecompra, lo que sugiere que el precio puede revertirse a la baja. Por el contrario, cuando el precio se acerca o cruza la banda inferior, podría interpretarse como una señal de sobreventa, indicando que el precio puede revertirse al alza.\n",
    "\n",
    "3. **Detección de Puntos de Inflexión:** Las rupturas de las Bandas de Bollinger, es decir, cuando el precio rompe una de las bandas superior o inferior, pueden indicar un cambio potencial en la tendencia del mercado. Estas rupturas a menudo se interpretan como señales de entrada o salida para los traders, dependiendo de si la ruptura ocurre por encima de la banda superior (posible señal de compra) o por debajo de la banda inferior (posible señal de venta).\n",
    "\n",
    "#### Casos de Uso de las Bandas de Bollinger\n",
    "\n",
    "1. **Confirmación de Tendencia:** Los traders utilizan las Bandas de Bollinger para confirmar la dirección de la tendencia predominante. Cuando el precio se mantiene dentro de las bandas, indica una tendencia estable. Por otro lado, si el precio se mueve fuera de las bandas, puede sugerir un cambio en la dirección de la tendencia.\n",
    "\n",
    "2. **Identificación de Rangos de Trading:** Cuando las bandas superior e inferior se contraen y se acercan entre sí, indica una baja volatilidad y puede señalar un período de consolidación o rango de trading. Los traders pueden usar esta información para ajustar sus estrategias de trading, esperando a que el precio salga del rango definido por las bandas.\n",
    "\n",
    "3. **Uso en Estrategias de Reversión a la Media:** Algunos traders utilizan las Bandas de Bollinger en estrategias de reversión a la media. Cuando el precio se aleja significativamente de una banda (ya sea superior o inferior), algunos traders consideran que existe una alta probabilidad de que el precio regrese hacia la línea media (MB), aprovechando este movimiento para entrar o salir de posiciones.\n",
    "\n",
    "4. **Filtrado de Señales de Compra y Venta:** Las Bandas de Bollinger pueden utilizarse como filtro para confirmar señales de compra y venta generadas por otros indicadores técnicos. Por ejemplo, si un indicador de impulso sugiere una señal de compra, los traders pueden esperar a que el precio también confirme moviéndose por encima de la banda superior como validación adicional.\n",
    "\n",
    "En resumen, las Bandas de Bollinger son una herramienta versátil en el análisis técnico que proporciona información crucial sobre la volatilidad, condiciones de sobrecompra/sobreventa y posibles puntos de inflexión en el precio de un activo. Los traders y analistas las utilizan para tomar decisiones informadas sobre operaciones y estrategias de inversión.\n",
    "\n",
    "\n",
    "**Fórmula:**\n",
    "\n",
    "Las Bandas de Bollinger se calculan utilizando la desviación estándar de los precios:\n",
    "\n",
    "1. **Línea Media (MB)**: Es generalmente la media móvil simple de N períodos.\n",
    "   \n",
    "2. **Línea Superior (Upper Band)**: Se calcula sumando dos veces la desviación estándar de los precios a la línea media.\n",
    "   \n",
    "3. **Línea Inferior (Lower Band)**: Se calcula restando dos veces la desviación estándar de los precios a la línea media.\n",
    "\n",
    "Para un conjunto de precios P de tamaño N:\n",
    "\n",
    "- Línea Media (MB):  $MB = \\text{SMA}(P, N)$\n",
    "\n",
    "- Línea Superior (Upper Band): $\\text{Upper Band} = MB + (2 \\times \\text{STD}(P, N))$\n",
    "\n",
    "- Línea Inferior (Lower Band): $\\text{Lower Band} = MB - (2 \\times \\text{STD}(P, N)) $\n",
    "\n",
    "Donde:\n",
    "- SMA representa la Media Móvil Simple.\n",
    "- STD representa la Desviación Estándar.\n",
    "\n",
    "**Algoritmo:**\n",
    "\n",
    "1. Calcular la Media Móvil Simple (SMA) de N períodos.\n",
    "2. Calcular la Desviación Estándar (STD) de los precios para N períodos.\n",
    "3. Calcular las Bandas de Bollinger utilizando las fórmulas mencionadas.\n",
    "\n",
    "**Ejemplo Numérico:**\n",
    "\n",
    "Supongamos que tenemos los precios de cierre de una acción durante los últimos 20 días:\n",
    "\n",
    "| Día | Precio de Cierre |\n",
    "|-----|------------------|\n",
    "| 1   | 100              |\n",
    "| 2   | 102              |\n",
    "| 3   | 104              |\n",
    "| ... | ...              |\n",
    "| 20  | 98               |\n",
    "\n",
    "Para calcular las Bandas de Bollinger con una media móvil de 20 períodos:\n",
    "\n",
    "- Calcular la Media Móvil Simple (SMA) de los precios de cierre.\n",
    "- Calcular la Desviación Estándar (STD) de los precios de cierre.\n",
    "- Calcular la Línea Media (MB), Línea Superior (Upper Band) y Línea Inferior (Lower Band) utilizando las fórmulas mencionadas.\n",
    "\n",
    "**Uso en el Análisis Técnico:**\n",
    "\n",
    "Las Bandas de Bollinger ayudan a los traders e inversores a identificar condiciones de sobrecompra y sobreventa en un mercado. Cuando los precios se acercan a la Línea Superior, puede indicar que el activo está sobrecomprado, mientras que cuando los precios se acercan a la Línea Inferior, puede indicar que el activo está sobrevendido. Además, las rupturas de las Bandas de Bollinger pueden indicar posibles cambios en la tendencia del mercado.\n",
    "\n",
    "**Referencias**\n",
    "1. **Referencias Bibliográficas**:\n",
    "   - Bollinger, John. *Bollinger on Bollinger Bands*. McGraw Hill, 2001. ISBN: 978-0071373685.\n",
    "   - Murphy, John J. *Technical Analysis of the Financial Markets: A Comprehensive Guide to Trading Methods and Applications*. New York Institute of Finance, 1999. ISBN: 978-0735200661.\n",
    "\n",
    "2. **Referencias Web**:\n",
    "   - [Investopedia - Bollinger Bands](https://www.investopedia.com/terms/b/bollingerbands.asp): Una explicación detallada de las Bandas de Bollinger, incluyendo su fórmula, interpretación y ejemplos prácticos.\n",
    "   - [StockCharts - Bollinger Bands](https://school.stockcharts.com/doku.php?id=technical_indicators:bollinger_bands): Una guía completa sobre las Bandas de Bollinger, que incluye gráficos interactivos y ejemplos de cómo utilizarlas en el análisis técnico.\n"
   ]
  },
  {
   "cell_type": "code",
   "execution_count": 17,
   "metadata": {},
   "outputs": [
    {
     "name": "stdout",
     "output_type": "stream",
     "text": [
      "Requirement already satisfied: pandas_ta in c:\\users\\macpro\\appdata\\local\\programs\\python\\python310\\lib\\site-packages (0.3.14b0)\n",
      "Requirement already satisfied: pandas in c:\\users\\macpro\\appdata\\local\\programs\\python\\python310\\lib\\site-packages (from pandas_ta) (2.2.2)\n",
      "Requirement already satisfied: numpy>=1.22.4 in c:\\users\\macpro\\appdata\\local\\programs\\python\\python310\\lib\\site-packages (from pandas->pandas_ta) (1.26.4)\n",
      "Requirement already satisfied: python-dateutil>=2.8.2 in c:\\users\\macpro\\appdata\\local\\programs\\python\\python310\\lib\\site-packages (from pandas->pandas_ta) (2.9.0.post0)\n",
      "Requirement already satisfied: pytz>=2020.1 in c:\\users\\macpro\\appdata\\local\\programs\\python\\python310\\lib\\site-packages (from pandas->pandas_ta) (2024.1)\n",
      "Requirement already satisfied: tzdata>=2022.7 in c:\\users\\macpro\\appdata\\local\\programs\\python\\python310\\lib\\site-packages (from pandas->pandas_ta) (2024.1)\n",
      "Requirement already satisfied: six>=1.5 in c:\\users\\macpro\\appdata\\local\\programs\\python\\python310\\lib\\site-packages (from python-dateutil>=2.8.2->pandas->pandas_ta) (1.16.0)\n",
      "Note: you may need to restart the kernel to use updated packages.\n"
     ]
    },
    {
     "name": "stderr",
     "output_type": "stream",
     "text": [
      "\n",
      "[notice] A new release of pip is available: 24.0 -> 24.1.1\n",
      "[notice] To update, run: python.exe -m pip install --upgrade pip\n"
     ]
    },
    {
     "name": "stdout",
     "output_type": "stream",
     "text": [
      "Requirement already satisfied: setuptools in c:\\users\\macpro\\appdata\\local\\programs\\python\\python310\\lib\\site-packages (65.5.0)\n",
      "Note: you may need to restart the kernel to use updated packages.\n"
     ]
    },
    {
     "name": "stderr",
     "output_type": "stream",
     "text": [
      "\n",
      "[notice] A new release of pip is available: 24.0 -> 24.1.1\n",
      "[notice] To update, run: python.exe -m pip install --upgrade pip\n"
     ]
    },
    {
     "name": "stdout",
     "output_type": "stream",
     "text": [
      "Requirement already satisfied: openpyxl in c:\\users\\macpro\\appdata\\local\\programs\\python\\python310\\lib\\site-packages (3.1.4)\n",
      "Requirement already satisfied: et-xmlfile in c:\\users\\macpro\\appdata\\local\\programs\\python\\python310\\lib\\site-packages (from openpyxl) (1.1.0)\n",
      "Note: you may need to restart the kernel to use updated packages.\n"
     ]
    },
    {
     "name": "stderr",
     "output_type": "stream",
     "text": [
      "\n",
      "[notice] A new release of pip is available: 24.0 -> 24.1.1\n",
      "[notice] To update, run: python.exe -m pip install --upgrade pip\n"
     ]
    }
   ],
   "source": [
    "%pip install pandas_ta\n",
    "%pip install setuptools\n",
    "%pip install openpyxl\n",
    "\n",
    "import yfinance as yf\n",
    "import datetime as dt\n",
    "import pandas as pd\n",
    "import plotly.graph_objects as go\n",
    "import nbformat\n",
    "import plotly.io as pio\n",
    "import pandas_ta as ta\n",
    "import matplotlib.pyplot as plt\n",
    "import plotly.graph_objs as go\n",
    "import os \n",
    "import numpy as np \n",
    "\n",
    "# traemos los datos\n",
    "\n",
    "# EJEMPLO CON YAHOO FINANZAS\n",
    "ticker_symbol = 'BTC-USD'\n",
    "ticker = yf.Ticker(ticker_symbol)\n",
    "\n",
    "# Obtener el historial de precios\n",
    "years=5\n",
    "end_date= dt.datetime.now() # fecha en formato 'YYYY-MM-DD' en la que queremos obtener los ultimos datos\n",
    "start_date = end_date- dt.timedelta(365*years) # fecha en formato 'YYYY-MM-DD' en la que queremos obtener los primeros datos\n",
    "period='5d' # 1d, 5d, 1mo, 3mo, 6mo, 1y, 2y, 5y, 10y, ytd, max\n",
    "interval='1d' # 1m, 2m, 5m, 15m, 30m, 60m, 90m, 1h, 1d, 5d, 1wk, 1mo, 3mo\n",
    "\n",
    "# bajamos los datos\n",
    "data = ticker.history(start=start_date, end=end_date, interval=interval)\n",
    "\n",
    "periodo = 50\n",
    "nombre_calculada = 'BB_'+str(periodo)+'_calculada'\n",
    "nombre_pd ='BB_'+str(periodo)+'_pd'\n",
    "nombre_pd_ta = 'BB_'+str(periodo)+'_ta'\n",
    "nombre_columna_precio = 'Close'"
   ]
  },
  {
   "cell_type": "code",
   "execution_count": 18,
   "metadata": {},
   "outputs": [],
   "source": [
    "# Bandas de Bollinger calculadas a mano\n"
   ]
  },
  {
   "cell_type": "code",
   "execution_count": 19,
   "metadata": {},
   "outputs": [
    {
     "name": "stdout",
     "output_type": "stream",
     "text": [
      "                                   Open          High           Low  \\\n",
      "Date                                                                  \n",
      "2019-07-03 00:00:00+00:00  10818.156250  11968.078125  10818.156250   \n",
      "2019-07-04 00:00:00+00:00  11972.718750  12006.075195  11166.569336   \n",
      "2019-07-05 00:00:00+00:00  11203.102539  11395.661133  10874.964844   \n",
      "2019-07-06 00:00:00+00:00  10982.543945  11620.964844  10982.543945   \n",
      "2019-07-07 00:00:00+00:00  11217.616211  11541.620117  11148.804688   \n",
      "...                                 ...           ...           ...   \n",
      "2024-06-27 00:00:00+00:00  60811.226562  62293.863281  60585.332031   \n",
      "2024-06-28 00:00:00+00:00  61612.804688  62126.097656  59985.402344   \n",
      "2024-06-29 00:00:00+00:00  60319.875000  61097.621094  60300.964844   \n",
      "2024-06-30 00:00:00+00:00  60888.445312  62892.828125  60632.949219   \n",
      "2024-07-01 00:00:00+00:00  62673.605469  63697.980469  62521.285156   \n",
      "\n",
      "                                  Close       Volume  Dividends  Stock Splits  \\\n",
      "Date                                                                            \n",
      "2019-07-03 00:00:00+00:00  11961.269531  30796494294        0.0           0.0   \n",
      "2019-07-04 00:00:00+00:00  11215.437500  25920294033        0.0           0.0   \n",
      "2019-07-05 00:00:00+00:00  10978.459961  23838480210        0.0           0.0   \n",
      "2019-07-06 00:00:00+00:00  11208.550781  21092024306        0.0           0.0   \n",
      "2019-07-07 00:00:00+00:00  11450.846680  19369044277        0.0           0.0   \n",
      "...                                 ...          ...        ...           ...   \n",
      "2024-06-27 00:00:00+00:00  61604.800781  21231745045        0.0           0.0   \n",
      "2024-06-28 00:00:00+00:00  60320.136719  24952866877        0.0           0.0   \n",
      "2024-06-29 00:00:00+00:00  60887.378906  12652903396        0.0           0.0   \n",
      "2024-06-30 00:00:00+00:00  62678.292969  17333226409        0.0           0.0   \n",
      "2024-07-01 00:00:00+00:00  62804.292969  20996028416        0.0           0.0   \n",
      "\n",
      "                              BBU_50_ta     BBL_50_ta     BBM_50_ta  \n",
      "Date                                                                 \n",
      "2019-07-03 00:00:00+00:00           NaN           NaN           NaN  \n",
      "2019-07-04 00:00:00+00:00           NaN           NaN           NaN  \n",
      "2019-07-05 00:00:00+00:00           NaN           NaN           NaN  \n",
      "2019-07-06 00:00:00+00:00           NaN           NaN           NaN  \n",
      "2019-07-07 00:00:00+00:00           NaN           NaN           NaN  \n",
      "...                                 ...           ...           ...  \n",
      "2024-06-27 00:00:00+00:00  72565.814945  60293.361305  66429.588125  \n",
      "2024-06-28 00:00:00+00:00  72676.867378  60073.115903  66374.991641  \n",
      "2024-06-29 00:00:00+00:00  72672.107707  60081.659637  66376.883672  \n",
      "2024-06-30 00:00:00+00:00  72597.194777  60231.955848  66414.575313  \n",
      "2024-07-01 00:00:00+00:00  72548.372974  60335.013588  66441.693281  \n",
      "\n",
      "[1826 rows x 10 columns]\n"
     ]
    }
   ],
   "source": [
    "# Calcular las Bandas de Bollinger con pantas TA\n",
    "bbands = ta.bbands(data[nombre_columna_precio], length=periodo, std=2)\n",
    "\n",
    "# agregamos las bandas al DF original\n",
    "data['BBU_50_ta'] = bbands['BBU_50_2.0']\n",
    "data['BBL_50_ta'] = bbands['BBL_50_2.0']\n",
    "data['BBM_50_ta'] = bbands['BBM_50_2.0']\n",
    "\n",
    "# Mostrar el DataFrame con las Bandas de Bollinger\n",
    "# print(data)"
   ]
  }
 ],
 "metadata": {
  "kernelspec": {
   "display_name": "Python 3",
   "language": "python",
   "name": "python3"
  },
  "language_info": {
   "codemirror_mode": {
    "name": "ipython",
    "version": 3
   },
   "file_extension": ".py",
   "mimetype": "text/x-python",
   "name": "python",
   "nbconvert_exporter": "python",
   "pygments_lexer": "ipython3",
   "version": "3.10.9"
  }
 },
 "nbformat": 4,
 "nbformat_minor": 2
}
